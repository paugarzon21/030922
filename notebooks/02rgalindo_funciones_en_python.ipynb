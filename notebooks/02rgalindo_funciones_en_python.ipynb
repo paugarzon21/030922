{
 "cells": [
  {
   "cell_type": "markdown",
   "metadata": {},
   "source": [
    "# Funciones en Python"
   ]
  },
  {
   "cell_type": "code",
   "execution_count": 3,
   "metadata": {},
   "outputs": [
    {
     "data": {
      "text/plain": [
       "8"
      ]
     },
     "execution_count": 3,
     "metadata": {},
     "output_type": "execute_result"
    }
   ],
   "source": [
    "# Una funcion de x       f(x)\n",
    "# Necesario un nombre y un argumento (el argumento no siempre es obligatorio)\n",
    "# Ejemplo f(x)= x+5\n",
    "#         f(x=3)= 3+5 ---> 8\n",
    "# Ahora en Python\n",
    "\n",
    "def f(x): #se le colocca un nombre y def es una palabra reservada para python para las funciones\n",
    "    resultado=x+5 # Importante la separacion. Colocar una variable a lo que quiero que haga.\n",
    "    return resultado # return es para devolver. No todas las funciones devuelven algo. \n",
    "\n",
    "f(x=3) # Ejecuto fuera del def\n",
    "# Print es la forma más fea de mostrar si el codigo funciona..mas elegante es logg\n",
    "\n",
    "def suma_mas_cinco(x): #mejor practica llamarlo segun lo que hace\n",
    "    resultado=x+5\n",
    "    return resultado\n",
    "\n",
    "suma_mas_cinco(x=3)"
   ]
  },
  {
   "cell_type": "markdown",
   "metadata": {},
   "source": [
    "# Pseudo Codigo"
   ]
  },
  {
   "cell_type": "code",
   "execution_count": null,
   "metadata": {},
   "outputs": [],
   "source": [
    "# Quiero obtene er el valor de la suma de los numeros de una lista\n",
    "# Quiero obtener el valor minimo y maximo\n",
    "# Quiero obtener la media y la desviacion estandar\n",
    "\n",
    "#calcular_valores(lista_numeros)\n",
    "#   suma                       =calcular_suma(lista_numeros)\n",
    "#   media, desciavion_estandar =calcular_valores_centrales(lista_numeros)\n",
    "#   minimo, maximo=            =calcular_extremos(lista_numeros)\n",
    "#   return suma, media, desviacion_estandar, minimo, maximo\n",
    "\n",
    "#Con el pseudo codigo es más facil atacar el problema"
   ]
  },
  {
   "cell_type": "code",
   "execution_count": 7,
   "metadata": {},
   "outputs": [],
   "source": [
    "import numpy as np\n",
    "\n",
    "def calcular_valores(lista_numeros):\n",
    "    suma= calcular_suma(lista_numeros)\n",
    "    media, desviacion_estandar= calcular_valores_centrales(lista_numeros)\n",
    "    minimo, maximo=calcular_extremos(lista_numeros)\n",
    "    return suma, media, desviacion_estandar, minimo, maximo #Si aparecen en gris es porque no se definieron pero no se usan\n",
    "\n",
    "#def calcular_suma_ineficiente(lista_numeros):\n",
    "#    for suma in range (lista_numeros): \n",
    "#        suma=suma+lista_numeros[i]\n",
    "#    return suma\n",
    "#La manera eficiente es usando la libreria numpy\n",
    "\n",
    "def calcular_suma(lista_numeros):\n",
    "    suma=np.sum(lista_numeros)\n",
    "    return suma\n",
    "\n",
    "def calcular_valores_centrales(lista_numeros):\n",
    "    media=np.mean(lista_numeros)\n",
    "    desviacion_estandar=np.std(lista_numeros)\n",
    "    return media, desviacion_estandar\n",
    "\n",
    "def calcular_extremos(lista_numeros):\n",
    "    minimo=np.min(lista_numeros)\n",
    "    maximo=np.max(lista_numeros)\n",
    "    return minimo, maximo"
   ]
  },
  {
   "cell_type": "code",
   "execution_count": 12,
   "metadata": {},
   "outputs": [
    {
     "data": {
      "text/plain": [
       "(155, 25.833333333333332, 33.58777886209341, 1, 93)"
      ]
     },
     "execution_count": 12,
     "metadata": {},
     "output_type": "execute_result"
    }
   ],
   "source": [
    "lista_numeros=[1, 5,8,3,45,93]\n",
    "calcular_valores(lista_numeros)\n",
    "#suma, media, desviacion_estandar, minimo, maximo=calcular_valores(lista_numeros) manera ineficiente\n"
   ]
  }
 ],
 "metadata": {
  "kernelspec": {
   "display_name": "Python 3.9.12 ('base')",
   "language": "python",
   "name": "python3"
  },
  "language_info": {
   "codemirror_mode": {
    "name": "ipython",
    "version": 3
   },
   "file_extension": ".py",
   "mimetype": "text/x-python",
   "name": "python",
   "nbconvert_exporter": "python",
   "pygments_lexer": "ipython3",
   "version": "3.9.12"
  },
  "orig_nbformat": 4,
  "vscode": {
   "interpreter": {
    "hash": "a90aeebcf29d64a654773811cc170cb25061cb2498f10ac689db374c7bf325de"
   }
  }
 },
 "nbformat": 4,
 "nbformat_minor": 2
}

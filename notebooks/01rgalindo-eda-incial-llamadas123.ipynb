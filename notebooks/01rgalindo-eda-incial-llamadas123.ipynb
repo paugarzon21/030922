{
 "cells": [
  {
   "cell_type": "markdown",
   "metadata": {},
   "source": [
    "# Notebook inicial EDA llamadas de emergencia 123 \n",
    "-------------------------------------------------"
   ]
  },
  {
   "cell_type": "code",
   "execution_count": 2,
   "metadata": {},
   "outputs": [],
   "source": [
    "#importar liberarias\n",
    "import pandas as pd\n",
    "import os\n",
    "from pathlib import Path"
   ]
  },
  {
   "cell_type": "code",
   "execution_count": 12,
   "metadata": {},
   "outputs": [
    {
     "data": {
      "text/plain": [
       "'C:\\\\Users\\\\ASUS\\\\Documents\\\\Especializacion_Big_Data_Analitica\\\\I_Semestre\\\\LHBD\\\\030922\\\\data\\\\row\\\\llamadas123_julio_2022.csv'"
      ]
     },
     "execution_count": 12,
     "metadata": {},
     "output_type": "execute_result"
    }
   ],
   "source": [
    "root_dir=Path('.').resolve().parent\n",
    "#root_dir es la carpeta \"madre\" 030922. Path('.').resolve() indica donde estamos parados\n",
    "file_name=\"llamadas123_julio_2022.csv\"\n",
    "\n",
    "file_path=os.path.join(root_dir, \"data\",\"row\", file_name) #cada concatenacion se hace con //\n",
    "file_path"
   ]
  },
  {
   "cell_type": "code",
   "execution_count": 14,
   "metadata": {},
   "outputs": [
    {
     "data": {
      "text/plain": [
       "int"
      ]
     },
     "execution_count": 14,
     "metadata": {},
     "output_type": "execute_result"
    }
   ],
   "source": [
    " df =pd.read_csv(file_path,sep=\";\", encoding=\"latin-1\") #sep es el separador y latin-1 para español utf8 ingles.n_row muestra de la tabla para evitar consumir memoria por ser tan grande el archivo\n",
    "# no modifica el archivo llamadas 123 (inicial) cuando se le asigna una variable (data frame alias df) ese archivo si se puede modificar\n",
    "df.head() #por defecto primeras 5 filas\n",
    "df.head(10) #primeras 10 filas\n",
    "df.shape #  devuelve un un tupla\n",
    "df.shape[0] #la cantidad de filas\n",
    "type(df.shape) \n",
    "type(df.shape [0])"
   ]
  },
  {
   "cell_type": "code",
   "execution_count": 29,
   "metadata": {},
   "outputs": [
    {
     "data": {
      "text/plain": [
       "NUMERO_INCIDENTE                     object\n",
       "FECHA_INICIO_DESPLAZAMIENTO_MOVIL    object\n",
       "CODIGO_LOCALIDAD                      int64\n",
       "LOCALIDAD                            object\n",
       "EDAD                                 object\n",
       "UNIDAD                               object\n",
       "GENERO                               object\n",
       "RED                                  object\n",
       "TIPO_INCIDENTE                       object\n",
       "PRIORIDAD                            object\n",
       "RECEPCION                            object\n",
       "dtype: object"
      ]
     },
     "execution_count": 29,
     "metadata": {},
     "output_type": "execute_result"
    }
   ],
   "source": [
    "df.dtypes #dtypes tipos de datos  se le llama esquema y si tengo la definicion de variables se llama diccionario\n",
    "# buena practica que se consistente es decir estandarizar los datos\n",
    "# en pandas object es un string\n",
    "# pero no todos son string como edad o fecha \n",
    "#este es un ejemplo de datos sucios"
   ]
  },
  {
   "cell_type": "code",
   "execution_count": 16,
   "metadata": {},
   "outputs": [
    {
     "data": {
      "text/plain": [
       "SIN_DATO    0.475144\n",
       "23          0.011566\n",
       "22          0.010724\n",
       "30          0.010341\n",
       "27          0.010264\n",
       "              ...   \n",
       "7           0.001302\n",
       "98          0.001226\n",
       "9           0.001149\n",
       "8           0.001072\n",
       "97          0.000919\n",
       "Name: EDAD, Length: 100, dtype: float64"
      ]
     },
     "execution_count": 16,
     "metadata": {},
     "output_type": "execute_result"
    }
   ],
   "source": [
    "df[\"TIPO_INCIDENTE\"].value_counts(normalize=True)\n",
    "# df[\"TIPO_INCIDENTE\"] trae todos los valores de la columna \"TIPO_INCIDENTE\"\n",
    "# df[\"TIPO_INCIDENTE\"].value_counts me trae la cantidad de veces que se repite una palabra en la columna incidente\n",
    "#df[\"TIPO_INCIDENTE\"].value_counts (normalize= True) para traer frecuencia \n",
    "df[\"EDAD\"].value_counts() # sera necesario cambiar SIN_dATO POR NA no por 0 porque significaria un \"bebe\"\n",
    "df[\"EDAD\"].value_counts(normalize=True, dropna=False) # verifica si hay valores nulos en la columna  en este caso no hay"
   ]
  },
  {
   "cell_type": "code",
   "execution_count": 47,
   "metadata": {},
   "outputs": [
    {
     "data": {
      "text/plain": [
       "array(['88', '16', '52', 'SIN_DATO', '33', '57', '65', '14', '83', '35',\n",
       "       '19', '53', '56', '45', '2', '18', '34', '84', '80', '7', '64',\n",
       "       '41', '28', '23', '85', '92', '38', '11', '58', '70', '50', '27',\n",
       "       '67', '54', '87', '24', '90', '99', '49', '91', '21', '62', '59',\n",
       "       '26', '78', '30', '32', '51', '15', '79', '37', '60', '76', '22',\n",
       "       '47', '61', '82', '86', '77', '63', '39', '89', '36', '97', '40',\n",
       "       '75', '13', '25', '73', '69', '72', '68', '44', '31', '74', '81',\n",
       "       '43', '20', '66', '10', '48', '29', '8', '17', '94', '55', '1',\n",
       "       '4', '3', '9', '71', '46', '6', '95', '93', '98', '96', '42', '5',\n",
       "       '12'], dtype=object)"
      ]
     },
     "execution_count": 47,
     "metadata": {},
     "output_type": "execute_result"
    }
   ],
   "source": [
    "df[\"EDAD\"].unique() #devuelve valores unicos de la columna en forma de lista"
   ]
  },
  {
   "cell_type": "code",
   "execution_count": 65,
   "metadata": {},
   "outputs": [
    {
     "data": {
      "text/plain": [
       "100"
      ]
     },
     "execution_count": 65,
     "metadata": {},
     "output_type": "execute_result"
    }
   ],
   "source": [
    "len(df[\"EDAD\"].unique() ) #cantidad de datos. que tan larga\n",
    "len(df[\"TIPO_INCIDENTE\"].unique())"
   ]
  },
  {
   "cell_type": "code",
   "execution_count": 17,
   "metadata": {},
   "outputs": [
    {
     "data": {
      "text/plain": [
       "Index(['NUMERO_INCIDENTE', 'FECHA_INICIO_DESPLAZAMIENTO_MOVIL',\n",
       "       'CODIGO_LOCALIDAD', 'LOCALIDAD', 'EDAD', 'UNIDAD', 'GENERO', 'RED',\n",
       "       'TIPO_INCIDENTE', 'PRIORIDAD', 'RECEPCION'],\n",
       "      dtype='object')"
      ]
     },
     "execution_count": 17,
     "metadata": {},
     "output_type": "execute_result"
    }
   ],
   "source": [
    "lista_columnas=df.columns\n",
    "lista_columnas\n",
    "lista_columnas[0] #primer\n",
    "lista_columnas[-1] #ultimo\n",
    "lista_columnas[0:3] #hasta el 3 sin incluir se puede hacer tambien [:3] ya que por default empieza en 0\n",
    "lista_columnas[5:8]\n",
    "lista_columnas"
   ]
  },
  {
   "cell_type": "code",
   "execution_count": 61,
   "metadata": {},
   "outputs": [
    {
     "name": "stdout",
     "output_type": "stream",
     "text": [
      "NUMERO_INCIDENTE\n",
      "FECHA_INICIO_DESPLAZAMIENTO_MOVIL\n",
      "CODIGO_LOCALIDAD\n",
      "LOCALIDAD\n",
      "EDAD\n",
      "UNIDAD\n",
      "GENERO\n",
      "RED\n",
      "TIPO_INCIDENTE\n",
      "PRIORIDAD\n",
      "RECEPCION\n",
      "fuera del loop\n"
     ]
    }
   ],
   "source": [
    "for col in lista_columnas:\n",
    "    print(col) #para cada valor en la lista de columnas imprimame el valor importante la identacion\n",
    "\n",
    "print(\"fuera del loop\")"
   ]
  },
  {
   "cell_type": "code",
   "execution_count": 18,
   "metadata": {},
   "outputs": [
    {
     "name": "stdout",
     "output_type": "stream",
     "text": [
      "NUMERO_INCIDENTE 12015\n",
      "FECHA_INICIO_DESPLAZAMIENTO_MOVIL 12781\n",
      "CODIGO_LOCALIDAD 20\n",
      "LOCALIDAD 20\n",
      "EDAD 100\n",
      "UNIDAD 6\n",
      "GENERO 3\n",
      "RED 5\n",
      "TIPO_INCIDENTE 21\n",
      "PRIORIDAD 4\n",
      "RECEPCION 5235\n"
     ]
    }
   ],
   "source": [
    "#saber cuantos valores unicos tiene en cada columna\n",
    "for col in lista_columnas:\n",
    "    lista_unicos=df[col].unique()\n",
    "    n_unicos=len(lista_unicos)\n",
    "    print(col,n_unicos)\n"
   ]
  },
  {
   "cell_type": "code",
   "execution_count": 19,
   "metadata": {},
   "outputs": [
    {
     "name": "stdout",
     "output_type": "stream",
     "text": [
      "{'NUMERO_INCIDENTE': 12015, 'FECHA_INICIO_DESPLAZAMIENTO_MOVIL': 12781, 'CODIGO_LOCALIDAD': 20, 'LOCALIDAD': 20, 'EDAD': 100, 'UNIDAD': 6, 'GENERO': 3, 'RED': 5, 'TIPO_INCIDENTE': 21, 'PRIORIDAD': 4, 'RECEPCION': 5235}\n"
     ]
    }
   ],
   "source": [
    "#diccionario lista de palabras que cuando se abre tiene asignado cada una un valor\n",
    "dict_reporte= {} #hacer un diccionario vacio para que se vea mejor dict_reporte= dict()\n",
    "\n",
    "for col in lista_columnas:\n",
    "    lista_unicos=df[col].unique()\n",
    "    n_unicos=len(lista_unicos)\n",
    "    #print(col,n_unicos)\n",
    "    dict_reporte[col]=n_unicos\n",
    "\n",
    "print(dict_reporte)"
   ]
  },
  {
   "cell_type": "code",
   "execution_count": 21,
   "metadata": {},
   "outputs": [
    {
     "ename": "ValueError",
     "evalue": "If using all scalar values, you must pass an index",
     "output_type": "error",
     "traceback": [
      "\u001b[1;31m---------------------------------------------------------------------------\u001b[0m",
      "\u001b[1;31mValueError\u001b[0m                                Traceback (most recent call last)",
      "\u001b[1;32mc:\\Users\\ASUS\\Documents\\Especializacion_Big_Data_Analitica\\I_Semestre\\LHBD\\030922\\notebooks\\01rgalindo-eda-incial-llamadas123.ipynb Celda 13\u001b[0m in \u001b[0;36m<cell line: 1>\u001b[1;34m()\u001b[0m\n\u001b[1;32m----> <a href='vscode-notebook-cell:/c%3A/Users/ASUS/Documents/Especializacion_Big_Data_Analitica/I_Semestre/LHBD/030922/notebooks/01rgalindo-eda-incial-llamadas123.ipynb#X15sZmlsZQ%3D%3D?line=0'>1</a>\u001b[0m pd\u001b[39m.\u001b[39;49mDataFrame\u001b[39m.\u001b[39;49mfrom_dict(dict_reporte)\n",
      "File \u001b[1;32mc:\\Users\\ASUS\\anaconda3\\lib\\site-packages\\pandas\\core\\frame.py:1677\u001b[0m, in \u001b[0;36mDataFrame.from_dict\u001b[1;34m(cls, data, orient, dtype, columns)\u001b[0m\n\u001b[0;32m   1674\u001b[0m     \u001b[39mraise\u001b[39;00m \u001b[39mValueError\u001b[39;00m(\u001b[39m\"\u001b[39m\u001b[39monly recognize index or columns for orient\u001b[39m\u001b[39m\"\u001b[39m)\n\u001b[0;32m   1676\u001b[0m \u001b[39mif\u001b[39;00m orient \u001b[39m!=\u001b[39m \u001b[39m\"\u001b[39m\u001b[39mtight\u001b[39m\u001b[39m\"\u001b[39m:\n\u001b[1;32m-> 1677\u001b[0m     \u001b[39mreturn\u001b[39;00m \u001b[39mcls\u001b[39;49m(data, index\u001b[39m=\u001b[39;49mindex, columns\u001b[39m=\u001b[39;49mcolumns, dtype\u001b[39m=\u001b[39;49mdtype)\n\u001b[0;32m   1678\u001b[0m \u001b[39melse\u001b[39;00m:\n\u001b[0;32m   1679\u001b[0m     realdata \u001b[39m=\u001b[39m data[\u001b[39m\"\u001b[39m\u001b[39mdata\u001b[39m\u001b[39m\"\u001b[39m]\n",
      "File \u001b[1;32mc:\\Users\\ASUS\\anaconda3\\lib\\site-packages\\pandas\\core\\frame.py:636\u001b[0m, in \u001b[0;36mDataFrame.__init__\u001b[1;34m(self, data, index, columns, dtype, copy)\u001b[0m\n\u001b[0;32m    630\u001b[0m     mgr \u001b[39m=\u001b[39m \u001b[39mself\u001b[39m\u001b[39m.\u001b[39m_init_mgr(\n\u001b[0;32m    631\u001b[0m         data, axes\u001b[39m=\u001b[39m{\u001b[39m\"\u001b[39m\u001b[39mindex\u001b[39m\u001b[39m\"\u001b[39m: index, \u001b[39m\"\u001b[39m\u001b[39mcolumns\u001b[39m\u001b[39m\"\u001b[39m: columns}, dtype\u001b[39m=\u001b[39mdtype, copy\u001b[39m=\u001b[39mcopy\n\u001b[0;32m    632\u001b[0m     )\n\u001b[0;32m    634\u001b[0m \u001b[39melif\u001b[39;00m \u001b[39misinstance\u001b[39m(data, \u001b[39mdict\u001b[39m):\n\u001b[0;32m    635\u001b[0m     \u001b[39m# GH#38939 de facto copy defaults to False only in non-dict cases\u001b[39;00m\n\u001b[1;32m--> 636\u001b[0m     mgr \u001b[39m=\u001b[39m dict_to_mgr(data, index, columns, dtype\u001b[39m=\u001b[39;49mdtype, copy\u001b[39m=\u001b[39;49mcopy, typ\u001b[39m=\u001b[39;49mmanager)\n\u001b[0;32m    637\u001b[0m \u001b[39melif\u001b[39;00m \u001b[39misinstance\u001b[39m(data, ma\u001b[39m.\u001b[39mMaskedArray):\n\u001b[0;32m    638\u001b[0m     \u001b[39mimport\u001b[39;00m \u001b[39mnumpy\u001b[39;00m\u001b[39m.\u001b[39;00m\u001b[39mma\u001b[39;00m\u001b[39m.\u001b[39;00m\u001b[39mmrecords\u001b[39;00m \u001b[39mas\u001b[39;00m \u001b[39mmrecords\u001b[39;00m\n",
      "File \u001b[1;32mc:\\Users\\ASUS\\anaconda3\\lib\\site-packages\\pandas\\core\\internals\\construction.py:502\u001b[0m, in \u001b[0;36mdict_to_mgr\u001b[1;34m(data, index, columns, dtype, typ, copy)\u001b[0m\n\u001b[0;32m    494\u001b[0m     arrays \u001b[39m=\u001b[39m [\n\u001b[0;32m    495\u001b[0m         x\n\u001b[0;32m    496\u001b[0m         \u001b[39mif\u001b[39;00m \u001b[39mnot\u001b[39;00m \u001b[39mhasattr\u001b[39m(x, \u001b[39m\"\u001b[39m\u001b[39mdtype\u001b[39m\u001b[39m\"\u001b[39m) \u001b[39mor\u001b[39;00m \u001b[39mnot\u001b[39;00m \u001b[39misinstance\u001b[39m(x\u001b[39m.\u001b[39mdtype, ExtensionDtype)\n\u001b[0;32m    497\u001b[0m         \u001b[39melse\u001b[39;00m x\u001b[39m.\u001b[39mcopy()\n\u001b[0;32m    498\u001b[0m         \u001b[39mfor\u001b[39;00m x \u001b[39min\u001b[39;00m arrays\n\u001b[0;32m    499\u001b[0m     ]\n\u001b[0;32m    500\u001b[0m     \u001b[39m# TODO: can we get rid of the dt64tz special case above?\u001b[39;00m\n\u001b[1;32m--> 502\u001b[0m \u001b[39mreturn\u001b[39;00m arrays_to_mgr(arrays, columns, index, dtype\u001b[39m=\u001b[39;49mdtype, typ\u001b[39m=\u001b[39;49mtyp, consolidate\u001b[39m=\u001b[39;49mcopy)\n",
      "File \u001b[1;32mc:\\Users\\ASUS\\anaconda3\\lib\\site-packages\\pandas\\core\\internals\\construction.py:120\u001b[0m, in \u001b[0;36marrays_to_mgr\u001b[1;34m(arrays, columns, index, dtype, verify_integrity, typ, consolidate)\u001b[0m\n\u001b[0;32m    117\u001b[0m \u001b[39mif\u001b[39;00m verify_integrity:\n\u001b[0;32m    118\u001b[0m     \u001b[39m# figure out the index, if necessary\u001b[39;00m\n\u001b[0;32m    119\u001b[0m     \u001b[39mif\u001b[39;00m index \u001b[39mis\u001b[39;00m \u001b[39mNone\u001b[39;00m:\n\u001b[1;32m--> 120\u001b[0m         index \u001b[39m=\u001b[39m _extract_index(arrays)\n\u001b[0;32m    121\u001b[0m     \u001b[39melse\u001b[39;00m:\n\u001b[0;32m    122\u001b[0m         index \u001b[39m=\u001b[39m ensure_index(index)\n",
      "File \u001b[1;32mc:\\Users\\ASUS\\anaconda3\\lib\\site-packages\\pandas\\core\\internals\\construction.py:664\u001b[0m, in \u001b[0;36m_extract_index\u001b[1;34m(data)\u001b[0m\n\u001b[0;32m    661\u001b[0m         \u001b[39mraise\u001b[39;00m \u001b[39mValueError\u001b[39;00m(\u001b[39m\"\u001b[39m\u001b[39mPer-column arrays must each be 1-dimensional\u001b[39m\u001b[39m\"\u001b[39m)\n\u001b[0;32m    663\u001b[0m \u001b[39mif\u001b[39;00m \u001b[39mnot\u001b[39;00m indexes \u001b[39mand\u001b[39;00m \u001b[39mnot\u001b[39;00m raw_lengths:\n\u001b[1;32m--> 664\u001b[0m     \u001b[39mraise\u001b[39;00m \u001b[39mValueError\u001b[39;00m(\u001b[39m\"\u001b[39m\u001b[39mIf using all scalar values, you must pass an index\u001b[39m\u001b[39m\"\u001b[39m)\n\u001b[0;32m    666\u001b[0m \u001b[39melif\u001b[39;00m have_series:\n\u001b[0;32m    667\u001b[0m     index \u001b[39m=\u001b[39m union_indexes(indexes)\n",
      "\u001b[1;31mValueError\u001b[0m: If using all scalar values, you must pass an index"
     ]
    }
   ],
   "source": [
    "pd.DataFrame.from_dict(dict_reporte)"
   ]
  },
  {
   "cell_type": "code",
   "execution_count": 20,
   "metadata": {},
   "outputs": [
    {
     "data": {
      "text/html": [
       "<div>\n",
       "<style scoped>\n",
       "    .dataframe tbody tr th:only-of-type {\n",
       "        vertical-align: middle;\n",
       "    }\n",
       "\n",
       "    .dataframe tbody tr th {\n",
       "        vertical-align: top;\n",
       "    }\n",
       "\n",
       "    .dataframe thead th {\n",
       "        text-align: right;\n",
       "    }\n",
       "</style>\n",
       "<table border=\"1\" class=\"dataframe\">\n",
       "  <thead>\n",
       "    <tr style=\"text-align: right;\">\n",
       "      <th></th>\n",
       "      <th>0</th>\n",
       "    </tr>\n",
       "  </thead>\n",
       "  <tbody>\n",
       "    <tr>\n",
       "      <th>NUMERO_INCIDENTE</th>\n",
       "      <td>12015</td>\n",
       "    </tr>\n",
       "    <tr>\n",
       "      <th>FECHA_INICIO_DESPLAZAMIENTO_MOVIL</th>\n",
       "      <td>12781</td>\n",
       "    </tr>\n",
       "    <tr>\n",
       "      <th>CODIGO_LOCALIDAD</th>\n",
       "      <td>20</td>\n",
       "    </tr>\n",
       "    <tr>\n",
       "      <th>LOCALIDAD</th>\n",
       "      <td>20</td>\n",
       "    </tr>\n",
       "    <tr>\n",
       "      <th>EDAD</th>\n",
       "      <td>100</td>\n",
       "    </tr>\n",
       "    <tr>\n",
       "      <th>UNIDAD</th>\n",
       "      <td>6</td>\n",
       "    </tr>\n",
       "    <tr>\n",
       "      <th>GENERO</th>\n",
       "      <td>3</td>\n",
       "    </tr>\n",
       "    <tr>\n",
       "      <th>RED</th>\n",
       "      <td>5</td>\n",
       "    </tr>\n",
       "    <tr>\n",
       "      <th>TIPO_INCIDENTE</th>\n",
       "      <td>21</td>\n",
       "    </tr>\n",
       "    <tr>\n",
       "      <th>PRIORIDAD</th>\n",
       "      <td>4</td>\n",
       "    </tr>\n",
       "    <tr>\n",
       "      <th>RECEPCION</th>\n",
       "      <td>5235</td>\n",
       "    </tr>\n",
       "  </tbody>\n",
       "</table>\n",
       "</div>"
      ],
      "text/plain": [
       "                                       0\n",
       "NUMERO_INCIDENTE                   12015\n",
       "FECHA_INICIO_DESPLAZAMIENTO_MOVIL  12781\n",
       "CODIGO_LOCALIDAD                      20\n",
       "LOCALIDAD                             20\n",
       "EDAD                                 100\n",
       "UNIDAD                                 6\n",
       "GENERO                                 3\n",
       "RED                                    5\n",
       "TIPO_INCIDENTE                        21\n",
       "PRIORIDAD                              4\n",
       "RECEPCION                           5235"
      ]
     },
     "execution_count": 20,
     "metadata": {},
     "output_type": "execute_result"
    }
   ],
   "source": [
    "pd.DataFrame.from_dict(dict_reporte, orient='index')"
   ]
  },
  {
   "cell_type": "code",
   "execution_count": 22,
   "metadata": {},
   "outputs": [
    {
     "data": {
      "text/html": [
       "<div>\n",
       "<style scoped>\n",
       "    .dataframe tbody tr th:only-of-type {\n",
       "        vertical-align: middle;\n",
       "    }\n",
       "\n",
       "    .dataframe tbody tr th {\n",
       "        vertical-align: top;\n",
       "    }\n",
       "\n",
       "    .dataframe thead th {\n",
       "        text-align: right;\n",
       "    }\n",
       "</style>\n",
       "<table border=\"1\" class=\"dataframe\">\n",
       "  <thead>\n",
       "    <tr style=\"text-align: right;\">\n",
       "      <th></th>\n",
       "      <th>conteo</th>\n",
       "    </tr>\n",
       "  </thead>\n",
       "  <tbody>\n",
       "    <tr>\n",
       "      <th>NUMERO_INCIDENTE</th>\n",
       "      <td>12015</td>\n",
       "    </tr>\n",
       "    <tr>\n",
       "      <th>FECHA_INICIO_DESPLAZAMIENTO_MOVIL</th>\n",
       "      <td>12781</td>\n",
       "    </tr>\n",
       "    <tr>\n",
       "      <th>CODIGO_LOCALIDAD</th>\n",
       "      <td>20</td>\n",
       "    </tr>\n",
       "    <tr>\n",
       "      <th>LOCALIDAD</th>\n",
       "      <td>20</td>\n",
       "    </tr>\n",
       "    <tr>\n",
       "      <th>EDAD</th>\n",
       "      <td>100</td>\n",
       "    </tr>\n",
       "    <tr>\n",
       "      <th>UNIDAD</th>\n",
       "      <td>6</td>\n",
       "    </tr>\n",
       "    <tr>\n",
       "      <th>GENERO</th>\n",
       "      <td>3</td>\n",
       "    </tr>\n",
       "    <tr>\n",
       "      <th>RED</th>\n",
       "      <td>5</td>\n",
       "    </tr>\n",
       "    <tr>\n",
       "      <th>TIPO_INCIDENTE</th>\n",
       "      <td>21</td>\n",
       "    </tr>\n",
       "    <tr>\n",
       "      <th>PRIORIDAD</th>\n",
       "      <td>4</td>\n",
       "    </tr>\n",
       "    <tr>\n",
       "      <th>RECEPCION</th>\n",
       "      <td>5235</td>\n",
       "    </tr>\n",
       "  </tbody>\n",
       "</table>\n",
       "</div>"
      ],
      "text/plain": [
       "                                   conteo\n",
       "NUMERO_INCIDENTE                    12015\n",
       "FECHA_INICIO_DESPLAZAMIENTO_MOVIL   12781\n",
       "CODIGO_LOCALIDAD                       20\n",
       "LOCALIDAD                              20\n",
       "EDAD                                  100\n",
       "UNIDAD                                  6\n",
       "GENERO                                  3\n",
       "RED                                     5\n",
       "TIPO_INCIDENTE                         21\n",
       "PRIORIDAD                               4\n",
       "RECEPCION                            5235"
      ]
     },
     "execution_count": 22,
     "metadata": {},
     "output_type": "execute_result"
    }
   ],
   "source": [
    "\n",
    "df_reporte=pd.DataFrame.from_dict(dict_reporte, orient='index') # buena practica ponerle una variable\n",
    "df_reporte.rename({0:\"conteo\"}, inplace=True,axis=1) #axis 0 me muevo en filas y 1 columnas\n",
    "\n",
    "df_reporte"
   ]
  },
  {
   "cell_type": "code",
   "execution_count": 23,
   "metadata": {},
   "outputs": [
    {
     "data": {
      "text/plain": [
       "'reporte_llamadas123_julio_2022.csv'"
      ]
     },
     "execution_count": 23,
     "metadata": {},
     "output_type": "execute_result"
    }
   ],
   "source": [
    "out_name='reporte_'+ file_name\n",
    "out_name"
   ]
  },
  {
   "cell_type": "code",
   "execution_count": 28,
   "metadata": {},
   "outputs": [],
   "source": [
    "out_path=os.path.join(root_dir,'data', 'processed', out_name)\n",
    "df_reporte.to_csv(out_path)"
   ]
  }
 ],
 "metadata": {
  "kernelspec": {
   "display_name": "Python 3.9.12 ('base')",
   "language": "python",
   "name": "python3"
  },
  "language_info": {
   "codemirror_mode": {
    "name": "ipython",
    "version": 3
   },
   "file_extension": ".py",
   "mimetype": "text/x-python",
   "name": "python",
   "nbconvert_exporter": "python",
   "pygments_lexer": "ipython3",
   "version": "3.9.12"
  },
  "orig_nbformat": 4,
  "vscode": {
   "interpreter": {
    "hash": "a90aeebcf29d64a654773811cc170cb25061cb2498f10ac689db374c7bf325de"
   }
  }
 },
 "nbformat": 4,
 "nbformat_minor": 2
}
